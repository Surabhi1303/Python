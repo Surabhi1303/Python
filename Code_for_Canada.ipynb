{
  "nbformat": 4,
  "nbformat_minor": 0,
  "metadata": {
    "colab": {
      "name": "Code for Canada.ipynb",
      "provenance": [],
      "toc_visible": true,
      "authorship_tag": "ABX9TyOJDCiIPZn5kjZrHH8bltuJ",
      "include_colab_link": true
    },
    "kernelspec": {
      "name": "python3",
      "display_name": "Python 3"
    }
  },
  "cells": [
    {
      "cell_type": "markdown",
      "metadata": {
        "id": "view-in-github",
        "colab_type": "text"
      },
      "source": [
        "<a href=\"https://colab.research.google.com/github/Surabhi1303/Python/blob/master/Code_for_Canada.ipynb\" target=\"_parent\"><img src=\"https://colab.research.google.com/assets/colab-badge.svg\" alt=\"Open In Colab\"/></a>"
      ]
    },
    {
      "cell_type": "code",
      "metadata": {
        "id": "ujHkKATppPCe",
        "colab_type": "code",
        "colab": {}
      },
      "source": [
        "import pandas as pd\n",
        "import numpy as np\n",
        "df=pd.read_csv(\"CodeforCanada.csv\")"
      ],
      "execution_count": null,
      "outputs": []
    },
    {
      "cell_type": "code",
      "metadata": {
        "id": "lVvmNfCmpiwF",
        "colab_type": "code",
        "colab": {
          "base_uri": "https://localhost:8080/",
          "height": 204
        },
        "outputId": "9f5c7f32-5d92-4365-ece7-0c0dae98c9cc"
      },
      "source": [
        "df['violation_category'].value_counts()"
      ],
      "execution_count": null,
      "outputs": [
        {
          "output_type": "execute_result",
          "data": {
            "text/plain": [
              "Animals and Pests           180\n",
              "Garbage and Refuse          126\n",
              "Unsanitary Conditions        83\n",
              "Vegetation                   67\n",
              "Building Conditions          62\n",
              "Chemical Hazards             17\n",
              "Biohazards                    7\n",
              "Air Pollutants and Odors      2\n",
              "Retail Food                   1\n",
              "Name: violation_category, dtype: int64"
            ]
          },
          "metadata": {
            "tags": []
          },
          "execution_count": 18
        }
      ]
    },
    {
      "cell_type": "code",
      "metadata": {
        "id": "t9DYW5ndptsE",
        "colab_type": "code",
        "colab": {
          "base_uri": "https://localhost:8080/",
          "height": 394
        },
        "outputId": "1df753ea-5816-4561-dabf-89d9d9cfb288"
      },
      "source": [
        "df.groupby('violation_category').agg({'violation_date' : [np.min, np.max]})"
      ],
      "execution_count": null,
      "outputs": [
        {
          "output_type": "execute_result",
          "data": {
            "text/html": [
              "<div>\n",
              "<style scoped>\n",
              "    .dataframe tbody tr th:only-of-type {\n",
              "        vertical-align: middle;\n",
              "    }\n",
              "\n",
              "    .dataframe tbody tr th {\n",
              "        vertical-align: top;\n",
              "    }\n",
              "\n",
              "    .dataframe thead tr th {\n",
              "        text-align: left;\n",
              "    }\n",
              "\n",
              "    .dataframe thead tr:last-of-type th {\n",
              "        text-align: right;\n",
              "    }\n",
              "</style>\n",
              "<table border=\"1\" class=\"dataframe\">\n",
              "  <thead>\n",
              "    <tr>\n",
              "      <th></th>\n",
              "      <th colspan=\"2\" halign=\"left\">violation_date</th>\n",
              "    </tr>\n",
              "    <tr>\n",
              "      <th></th>\n",
              "      <th>amin</th>\n",
              "      <th>amax</th>\n",
              "    </tr>\n",
              "    <tr>\n",
              "      <th>violation_category</th>\n",
              "      <th></th>\n",
              "      <th></th>\n",
              "    </tr>\n",
              "  </thead>\n",
              "  <tbody>\n",
              "    <tr>\n",
              "      <th>Air Pollutants and Odors</th>\n",
              "      <td>2012-12-05 0:00</td>\n",
              "      <td>2012-12-19 0:00</td>\n",
              "    </tr>\n",
              "    <tr>\n",
              "      <th>Animals and Pests</th>\n",
              "      <td>2012-01-03 0:00</td>\n",
              "      <td>2012-12-28 0:00</td>\n",
              "    </tr>\n",
              "    <tr>\n",
              "      <th>Biohazards</th>\n",
              "      <td>2012-04-13 0:00</td>\n",
              "      <td>2012-12-18 0:00</td>\n",
              "    </tr>\n",
              "    <tr>\n",
              "      <th>Building Conditions</th>\n",
              "      <td>2012-01-12 0:00</td>\n",
              "      <td>2012-12-26 0:00</td>\n",
              "    </tr>\n",
              "    <tr>\n",
              "      <th>Chemical Hazards</th>\n",
              "      <td>2012-02-08 0:00</td>\n",
              "      <td>2012-12-06 0:00</td>\n",
              "    </tr>\n",
              "    <tr>\n",
              "      <th>Garbage and Refuse</th>\n",
              "      <td>2012-01-03 0:00</td>\n",
              "      <td>2012-12-21 0:00</td>\n",
              "    </tr>\n",
              "    <tr>\n",
              "      <th>Retail Food</th>\n",
              "      <td>2012-12-20 0:00</td>\n",
              "      <td>2012-12-20 0:00</td>\n",
              "    </tr>\n",
              "    <tr>\n",
              "      <th>Unsanitary Conditions</th>\n",
              "      <td>2012-01-03 0:00</td>\n",
              "      <td>2012-12-19 0:00</td>\n",
              "    </tr>\n",
              "    <tr>\n",
              "      <th>Vegetation</th>\n",
              "      <td>2012-02-01 0:00</td>\n",
              "      <td>2012-12-05 0:00</td>\n",
              "    </tr>\n",
              "  </tbody>\n",
              "</table>\n",
              "</div>"
            ],
            "text/plain": [
              "                           violation_date                 \n",
              "                                     amin             amax\n",
              "violation_category                                        \n",
              "Air Pollutants and Odors  2012-12-05 0:00  2012-12-19 0:00\n",
              "Animals and Pests         2012-01-03 0:00  2012-12-28 0:00\n",
              "Biohazards                2012-04-13 0:00  2012-12-18 0:00\n",
              "Building Conditions       2012-01-12 0:00  2012-12-26 0:00\n",
              "Chemical Hazards          2012-02-08 0:00  2012-12-06 0:00\n",
              "Garbage and Refuse        2012-01-03 0:00  2012-12-21 0:00\n",
              "Retail Food               2012-12-20 0:00  2012-12-20 0:00\n",
              "Unsanitary Conditions     2012-01-03 0:00  2012-12-19 0:00\n",
              "Vegetation                2012-02-01 0:00  2012-12-05 0:00"
            ]
          },
          "metadata": {
            "tags": []
          },
          "execution_count": 19
        }
      ]
    }
  ]
}